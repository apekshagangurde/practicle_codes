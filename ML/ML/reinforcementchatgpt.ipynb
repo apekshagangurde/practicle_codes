{
 "cells": [
  {
   "cell_type": "code",
   "execution_count": 1,
   "id": "980b5e1f-c9d2-447e-8907-cb28a7dff473",
   "metadata": {},
   "outputs": [],
   "source": [
    "import numpy as np\n",
    "import random\n",
    "from collections import defaultdict\n"
   ]
  },
  {
   "cell_type": "code",
   "execution_count": 2,
   "id": "212c0ba9-8eba-47f0-b4ad-8ce21c8fd2bf",
   "metadata": {},
   "outputs": [],
   "source": [
    "class TicTacToe:\n",
    "    def __init__(self):\n",
    "        self.board = np.zeros((3, 3), dtype=int)  # 3x3 board initialized to 0\n",
    "        self.done = False\n",
    "        self.current_player = 1  # Player 1 starts (1 for Player 1, -1 for Player 2)\n",
    "\n",
    "    def reset(self):\n",
    "        self.board = np.zeros((3, 3), dtype=int)\n",
    "        self.done = False\n",
    "        self.current_player = 1\n",
    "        return self.board.flatten()\n",
    "\n",
    "    def available_actions(self):\n",
    "        return [(i, j) for i in range(3) for j in range(3) if self.board[i, j] == 0]\n",
    "\n",
    "    def step(self, action):\n",
    "        if self.done:\n",
    "            raise ValueError(\"Game is over\")\n",
    "        \n",
    "        row, col = action\n",
    "        self.board[row, col] = self.current_player\n",
    "        \n",
    "        if self.check_winner():\n",
    "            reward = 1\n",
    "            self.done = True\n",
    "        elif len(self.available_actions()) == 0:\n",
    "            reward = 0  # Draw\n",
    "            self.done = True\n",
    "        else:\n",
    "            reward = 0  # Game continues\n",
    "            self.current_player *= -1  # Switch players\n",
    "        \n",
    "        return self.board.flatten(), reward, self.done\n",
    "\n",
    "    def check_winner(self):\n",
    "        for i in range(3):\n",
    "            if abs(sum(self.board[i, :])) == 3 or abs(sum(self.board[:, i])) == 3:\n",
    "                return True\n",
    "        if abs(self.board.trace()) == 3 or abs(np.fliplr(self.board).trace()) == 3:\n",
    "            return True\n",
    "        return False\n"
   ]
  },
  {
   "cell_type": "code",
   "execution_count": 3,
   "id": "35e5afe0-8892-4b75-ac7f-93e45cb9c5c1",
   "metadata": {},
   "outputs": [],
   "source": [
    "class QLearningAgent:\n",
    "    def __init__(self, alpha=0.1, gamma=0.9, epsilon=0.1):\n",
    "        self.q_table = defaultdict(lambda: np.zeros(9))  # 3x3 board flattened to 9 actions\n",
    "        self.alpha = alpha  # Learning rate\n",
    "        self.gamma = gamma  # Discount factor\n",
    "        self.epsilon = epsilon  # Exploration rate\n",
    "\n",
    "    def choose_action(self, state, available_actions):\n",
    "        if random.uniform(0, 1) < self.epsilon:  # Exploration\n",
    "            return random.choice(available_actions)\n",
    "        else:  # Exploitation\n",
    "            state_key = tuple(state)\n",
    "            action_values = self.q_table[state_key]\n",
    "            action_index = np.argmax(action_values)\n",
    "            return (action_index // 3, action_index % 3)\n",
    "\n",
    "    def update_q_value(self, state, action, reward, next_state):\n",
    "        state_key = tuple(state)\n",
    "        next_state_key = tuple(next_state)\n",
    "        action_index = action[0] * 3 + action[1]\n",
    "\n",
    "        # Q-learning update rule\n",
    "        best_next_action = np.max(self.q_table[next_state_key])\n",
    "        self.q_table[state_key][action_index] += self.alpha * (reward + self.gamma * best_next_action - self.q_table[state_key][action_index])\n"
   ]
  },
  {
   "cell_type": "code",
   "execution_count": 4,
   "id": "8db8aaa4-ac31-4979-90f6-e6d32dc4a00a",
   "metadata": {},
   "outputs": [],
   "source": [
    "def train(agent, env, episodes=5000):\n",
    "    for episode in range(episodes):\n",
    "        state = env.reset()\n",
    "        done = False\n",
    "\n",
    "        while not done:\n",
    "            available_actions = env.available_actions()\n",
    "            action = agent.choose_action(state, available_actions)\n",
    "            next_state, reward, done = env.step(action)\n",
    "            agent.update_q_value(state, action, reward, next_state)\n",
    "            state = next_state\n"
   ]
  },
  {
   "cell_type": "code",
   "execution_count": 5,
   "id": "565ac150-74ef-4353-8539-a2ea2d86ed3c",
   "metadata": {},
   "outputs": [],
   "source": [
    "def test(agent, env, episodes=100):\n",
    "    wins = 0\n",
    "    draws = 0\n",
    "    losses = 0\n",
    "\n",
    "    for episode in range(episodes):\n",
    "        state = env.reset()\n",
    "        done = False\n",
    "        agent.current_player = 1  # Our agent is player 1\n",
    "        \n",
    "        while not done:\n",
    "            if env.current_player == 1:\n",
    "                action = agent.choose_action(state, env.available_actions())\n",
    "            else:\n",
    "                action = random.choice(env.available_actions())  # Random opponent\n",
    "            next_state, reward, done = env.step(action)\n",
    "            state = next_state\n",
    "\n",
    "        if reward == 1 and env.current_player == -1:\n",
    "            wins += 1  # Agent won\n",
    "        elif reward == 0:\n",
    "            draws += 1  # Draw\n",
    "        else:\n",
    "            losses += 1  # Agent lost\n",
    "\n",
    "    print(f\"Results after {episodes} games:\")\n",
    "    print(f\"Wins: {wins}, Draws: {draws}, Losses: {losses}\")\n"
   ]
  },
  {
   "cell_type": "code",
   "execution_count": 6,
   "id": "bece3e7b-fc2f-473d-9041-08798a50506b",
   "metadata": {},
   "outputs": [
    {
     "name": "stdout",
     "output_type": "stream",
     "text": [
      "Results after 100 games:\n",
      "Wins: 52, Draws: 7, Losses: 41\n"
     ]
    }
   ],
   "source": [
    "# Initialize environment and agent\n",
    "env = TicTacToe()\n",
    "agent = QLearningAgent()\n",
    "\n",
    "# Train the agent\n",
    "train(agent, env, episodes=10000)\n",
    "\n",
    "# Test the trained agent\n",
    "test(agent, env, episodes=100)\n"
   ]
  },
  {
   "cell_type": "code",
   "execution_count": null,
   "id": "0376fa21-4b0e-4c74-8375-e09872e4157d",
   "metadata": {},
   "outputs": [],
   "source": []
  }
 ],
 "metadata": {
  "kernelspec": {
   "display_name": "Python 3 (ipykernel)",
   "language": "python",
   "name": "python3"
  },
  "language_info": {
   "codemirror_mode": {
    "name": "ipython",
    "version": 3
   },
   "file_extension": ".py",
   "mimetype": "text/x-python",
   "name": "python",
   "nbconvert_exporter": "python",
   "pygments_lexer": "ipython3",
   "version": "3.11.3"
  }
 },
 "nbformat": 4,
 "nbformat_minor": 5
}
