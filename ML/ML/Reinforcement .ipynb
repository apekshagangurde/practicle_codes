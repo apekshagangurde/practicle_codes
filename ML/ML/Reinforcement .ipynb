{
 "cells": [
  {
   "cell_type": "code",
   "execution_count": 1,
   "id": "111cc117-76e1-4efc-909c-98d94d361155",
   "metadata": {
    "id": "111cc117-76e1-4efc-909c-98d94d361155"
   },
   "outputs": [],
   "source": [
    "import numpy as np\n",
    "import random"
   ]
  },
  {
   "cell_type": "code",
   "execution_count": 2,
   "id": "6461c511-68ca-4764-b172-015a84be951b",
   "metadata": {
    "id": "6461c511-68ca-4764-b172-015a84be951b"
   },
   "outputs": [],
   "source": [
    "# Task a & b: Setting up the Tic-Tac-Toe environment\n",
    "class TicTacToeEnv:\n",
    "    def __init__(self):\n",
    "        self.reset()\n",
    "\n",
    "    def reset(self):\n",
    "        self.board = np.zeros((3, 3), dtype=int)\n",
    "        self.done = False\n",
    "        self.current_player = 1  # 1 for 'X', -1 for 'O'\n",
    "        return tuple(self.board.flatten())\n",
    "\n",
    "    def available_actions(self):\n",
    "        return [(i, j) for i in range(3) for j in range(3) if self.board[i, j] == 0]\n",
    "\n",
    "    def step(self, action):\n",
    "        if self.done:\n",
    "            return tuple(self.board.flatten()), 0, True  # Game is already over\n",
    "        i, j = action\n",
    "        self.board[i, j] = self.current_player\n",
    "        reward = self.check_winner()\n",
    "        self.done = reward != 0 or not self.available_actions()\n",
    "        self.current_player *= -1\n",
    "        return tuple(self.board.flatten()), reward, self.done\n",
    "\n",
    "    def check_winner(self):\n",
    "        for i in range(3):\n",
    "            if abs(sum(self.board[i, :])) == 3 or abs(sum(self.board[:, i])) == 3:\n",
    "                return 1 * self.current_player\n",
    "        if abs(sum(self.board.diagonal())) == 3 or abs(sum(np.fliplr(self.board).diagonal())) == 3:\n",
    "            return 1 * self.current_player\n",
    "        return 0"
   ]
  },
  {
   "cell_type": "code",
   "execution_count": 3,
   "id": "7f44e997-cc49-4f7b-a8e9-64609c42774e",
   "metadata": {
    "id": "7f44e997-cc49-4f7b-a8e9-64609c42774e"
   },
   "outputs": [],
   "source": [
    "# Task c: Building the Q-learning model\n",
    "Q = {}"
   ]
  },
  {
   "cell_type": "code",
   "execution_count": 4,
   "id": "ab4bae0f-53c9-4448-819f-fd6c6e17c332",
   "metadata": {
    "id": "ab4bae0f-53c9-4448-819f-fd6c6e17c332"
   },
   "outputs": [],
   "source": [
    "def choose_action(state, epsilon=0.1):\n",
    "    if state not in Q:\n",
    "        Q[state] = {a: 0 for a in env.available_actions()}\n",
    "    return random.choice(env.available_actions()) if random.random() < epsilon else max(Q[state], key=Q[state].get)\n",
    "\n",
    "def update_q(state, action, reward, next_state, alpha=0.1, gamma=0.95):\n",
    "    if state not in Q:\n",
    "        Q[state] = {a: 0 for a in env.available_actions()}\n",
    "    if next_state not in Q:\n",
    "        # Set Q[next_state] with a default value of 0 if no available actions\n",
    "        Q[next_state] = {a: 0 for a in env.available_actions()} or {(0, 0): 0}\n",
    "\n",
    "    # Q-learning update rule with terminal state check\n",
    "    max_future_q = max(Q[next_state].values()) if Q[next_state] else 0\n",
    "    Q[state][action] += alpha * (reward + gamma * max_future_q - Q[state][action])"
   ]
  },
  {
   "cell_type": "code",
   "execution_count": 5,
   "id": "a283126d-58ee-4584-9da9-7bb3b9b61c43",
   "metadata": {
    "id": "a283126d-58ee-4584-9da9-7bb3b9b61c43"
   },
   "outputs": [],
   "source": [
    "# Task d: Training the model\n",
    "env = TicTacToeEnv()\n",
    "for episode in range(10000):\n",
    "    state = env.reset()\n",
    "    done = False\n",
    "    while not done:\n",
    "        action = choose_action(state)\n",
    "        next_state, reward, done = env.step(action)\n",
    "        update_q(state, action, reward, next_state)\n",
    "        state = next_state"
   ]
  },
  {
   "cell_type": "code",
   "execution_count": 6,
   "id": "4e5cf699-acca-4829-b430-ec51be0f5c5e",
   "metadata": {
    "id": "4e5cf699-acca-4829-b430-ec51be0f5c5e"
   },
   "outputs": [],
   "source": [
    "# Task e: Testing the model\n",
    "def test_model():\n",
    "    state = env.reset()\n",
    "    done = False\n",
    "    while not done:\n",
    "        action = choose_action(state, epsilon=0)  # Always exploit\n",
    "        next_state, reward, done = env.step(action)\n",
    "        print(np.reshape(next_state, (3, 3)))\n",
    "        state = next_state\n",
    "        if done:\n",
    "            if reward > 0:\n",
    "                print(\"AI won!\")\n",
    "            elif reward < 0:\n",
    "                print(\"AI lost!\")\n",
    "            else:\n",
    "                print(\"It's a draw!\")"
   ]
  },
  {
   "cell_type": "code",
   "execution_count": 7,
   "id": "9aca69cb-b350-4400-a352-9faa18fbbabd",
   "metadata": {
    "id": "9aca69cb-b350-4400-a352-9faa18fbbabd",
    "outputId": "ff8cc640-09f1-48fc-91f6-bd6323d9a6bf"
   },
   "outputs": [
    {
     "name": "stdout",
     "output_type": "stream",
     "text": [
      "[[1 0 0]\n",
      " [0 0 0]\n",
      " [0 0 0]]\n",
      "[[ 1 -1  0]\n",
      " [ 0  0  0]\n",
      " [ 0  0  0]]\n",
      "[[ 1 -1  0]\n",
      " [ 0  0  0]\n",
      " [ 1  0  0]]\n",
      "[[ 1 -1 -1]\n",
      " [ 0  0  0]\n",
      " [ 1  0  0]]\n",
      "[[ 1 -1 -1]\n",
      " [ 1  0  0]\n",
      " [ 1  0  0]]\n",
      "AI won!\n"
     ]
    }
   ],
   "source": [
    "# Run a test\n",
    "test_model()"
   ]
  },
  {
   "cell_type": "code",
   "execution_count": 1,
   "id": "301c0fee-cb3a-430c-9016-b92c2aa59bcc",
   "metadata": {},
   "outputs": [
    {
     "name": "stdout",
     "output_type": "stream",
     "text": [
      "[[1 0 0]\n",
      " [0 0 0]\n",
      " [0 0 0]]\n",
      "[[ 1 -1  0]\n",
      " [ 0  0  0]\n",
      " [ 0  0  0]]\n",
      "[[ 1 -1  0]\n",
      " [ 0  0  0]\n",
      " [ 1  0  0]]\n",
      "[[ 1 -1 -1]\n",
      " [ 0  0  0]\n",
      " [ 1  0  0]]\n",
      "[[ 1 -1 -1]\n",
      " [ 1  0  0]\n",
      " [ 1  0  0]]\n",
      "AI won!\n"
     ]
    }
   ],
   "source": [
    "import numpy as np\n",
    "import random\n",
    "\n",
    "# Task a & b: Setting up the Tic-Tac-Toe environment\n",
    "class TicTacToeEnv:\n",
    "    def __init__(self):\n",
    "        self.reset()  # Initialize the environment\n",
    "\n",
    "    def reset(self):\n",
    "        \"\"\"Reset the game board and state.\"\"\"\n",
    "        self.board = np.zeros((3, 3), dtype=int)  # Create a 3x3 board initialized to zero\n",
    "        self.done = False  # Flag to indicate if the game is finished\n",
    "        self.current_player = 1  # 1 for 'X', -1 for 'O'\n",
    "        return tuple(self.board.flatten())  # Return the flattened board as the initial state\n",
    "\n",
    "    def available_actions(self):\n",
    "        \"\"\"Return a list of available actions (empty spots on the board).\"\"\"\n",
    "        return [(i, j) for i in range(3) for j in range(3) if self.board[i, j] == 0]\n",
    "\n",
    "    def step(self, action):\n",
    "        \"\"\"Take an action and return the new state, reward, and if the game is done.\"\"\"\n",
    "        if self.done:\n",
    "            return tuple(self.board.flatten()), 0, True  # If the game is over, return current state\n",
    "\n",
    "        i, j = action  # Unpack action\n",
    "        self.board[i, j] = self.current_player  # Place the current player's mark on the board\n",
    "        reward = self.check_winner()  # Check if this move wins the game\n",
    "        self.done = reward != 0 or not self.available_actions()  # Check if the game is done\n",
    "        self.current_player *= -1  # Switch players\n",
    "        return tuple(self.board.flatten()), reward, self.done  # Return new state, reward, and done flag\n",
    "\n",
    "    def check_winner(self):\n",
    "        \"\"\"Check if there is a winner.\"\"\"\n",
    "        for i in range(3):\n",
    "            if abs(sum(self.board[i, :])) == 3 or abs(sum(self.board[:, i])) == 3:\n",
    "                return 1 * self.current_player  # Return reward for winning\n",
    "        if abs(sum(self.board.diagonal())) == 3 or abs(sum(np.fliplr(self.board).diagonal())) == 3:\n",
    "            return 1 * self.current_player  # Check diagonals for win\n",
    "        return 0  # No winner\n",
    "\n",
    "# Task c: Building the Q-learning model\n",
    "Q = {}\n",
    "\n",
    "def choose_action(state, epsilon=0.1):\n",
    "    \"\"\"Choose an action based on epsilon-greedy strategy.\"\"\"\n",
    "    if state not in Q:\n",
    "        Q[state] = {a: 0 for a in env.available_actions()}  # Initialize Q-values for new state\n",
    "    if random.random() < epsilon:\n",
    "        return random.choice(env.available_actions())  # Explore: choose a random action\n",
    "    else:\n",
    "        return max(Q[state], key=Q[state].get)  # Exploit: choose the best action based on Q-values\n",
    "\n",
    "def update_q(state, action, reward, next_state, alpha=0.1, gamma=0.95):\n",
    "    \"\"\"Update the Q-value using the Q-learning formula.\"\"\"\n",
    "    if state not in Q:\n",
    "        Q[state] = {a: 0 for a in env.available_actions()}\n",
    "    if next_state not in Q:\n",
    "        # Set Q[next_state] with a default value of 0 if no available actions\n",
    "        Q[next_state] = {a: 0 for a in env.available_actions()} or {(0, 0): 0}\n",
    "\n",
    "    # Q-learning update rule\n",
    "    max_future_q = max(Q[next_state].values()) if next_state in Q else 0  # Get max Q value for next state\n",
    "    Q[state][action] += alpha * (reward + gamma * max_future_q - Q[state][action])  # Update rule\n",
    "\n",
    "# Task d: Training the model\n",
    "env = TicTacToeEnv()\n",
    "for episode in range(10000):  # Train for a number of episodes\n",
    "    state = env.reset()  # Reset the environment\n",
    "    done = False\n",
    "    while not done:\n",
    "        action = choose_action(state)  # Select an action\n",
    "        next_state, reward, done = env.step(action)  # Take action in the environment\n",
    "        update_q(state, action, reward, next_state)  # Update the Q-values\n",
    "        state = next_state  # Move to the next state\n",
    "\n",
    "# Task e: Testing the model\n",
    "def test_model():\n",
    "    \"\"\"Test the trained model.\"\"\"\n",
    "    state = env.reset()  # Reset the environment\n",
    "    done = False\n",
    "    while not done:\n",
    "        action = choose_action(state, epsilon=0)  # Always exploit\n",
    "        next_state, reward, done = env.step(action)  # Take action\n",
    "        print(np.reshape(next_state, (3, 3)))  # Print the current state of the board\n",
    "        state = next_state\n",
    "        if done:\n",
    "            if reward > 0:\n",
    "                print(\"AI won!\")\n",
    "            elif reward < 0:\n",
    "                print(\"AI lost!\")\n",
    "            else:\n",
    "                print(\"It's a draw!\")\n",
    "\n",
    "# Run a test\n",
    "test_model()\n"
   ]
  },
  {
   "cell_type": "code",
   "execution_count": null,
   "id": "615e45e9-0bce-4d70-810e-6ef17d34c742",
   "metadata": {},
   "outputs": [],
   "source": []
  }
 ],
 "metadata": {
  "colab": {
   "provenance": []
  },
  "kernelspec": {
   "display_name": "Python 3 (ipykernel)",
   "language": "python",
   "name": "python3"
  },
  "language_info": {
   "codemirror_mode": {
    "name": "ipython",
    "version": 3
   },
   "file_extension": ".py",
   "mimetype": "text/x-python",
   "name": "python",
   "nbconvert_exporter": "python",
   "pygments_lexer": "ipython3",
   "version": "3.11.3"
  }
 },
 "nbformat": 4,
 "nbformat_minor": 5
}
