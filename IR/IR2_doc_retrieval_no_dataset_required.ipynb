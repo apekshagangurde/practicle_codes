{
 "cells": [
  {
   "cell_type": "markdown",
   "id": "44c32ec7",
   "metadata": {
    "id": "44c32ec7"
   },
   "source": [
    "2. Implement a program for retrieval of documents using inverted files"
   ]
  },
  {
   "cell_type": "code",
   "execution_count": 2,
   "id": "09b3ea9f",
   "metadata": {
    "colab": {
     "base_uri": "https://localhost:8080/"
    },
    "executionInfo": {
     "elapsed": 58639,
     "status": "ok",
     "timestamp": 1699071906979,
     "user": {
      "displayName": "Riya Jain",
      "userId": "05653870576225209853"
     },
     "user_tz": -330
    },
    "id": "09b3ea9f",
    "outputId": "8aac9bb8-6720-4ac3-a4bd-91605f214380"
   },
   "outputs": [
    {
     "name": "stdin",
     "output_type": "stream",
     "text": [
      "Enter query:  [\"document\", \"retrieval\"]\n"
     ]
    },
    {
     "name": "stdout",
     "output_type": "stream",
     "text": [
      "Query: [\"document\", \"retrieval\"]\n",
      "Matching Documents: {4}\n"
     ]
    }
   ],
   "source": [
    "import re\n",
    "import collections\n",
    "\n",
    "# Sample documents\n",
    "documents = {\n",
    "    1: \"This is the first document. It contains some words.\",\n",
    "    2: \"This is the second document. It also contains words.\",\n",
    "    3: \"The third document is different from the first two.\",\n",
    "    4: \"Inverted index is essential for document retrieval.\",\n",
    "}\n",
    "\n",
    "# Function to preprocess and tokenize text\n",
    "def preprocess(text):\n",
    "    text = text.lower()\n",
    "    tokens = re.findall(r'\\w+', text)\n",
    "    return tokens\n",
    "\n",
    "# Create an inverted index\n",
    "def build_inverted_index(documents):\n",
    "    inverted_index = collections.defaultdict(list)\n",
    "    for doc_id, document in documents.items():\n",
    "        tokens = preprocess(document)\n",
    "        for token in tokens:\n",
    "            inverted_index[token].append(doc_id)\n",
    "    return inverted_index\n",
    "\n",
    "# Function to perform document retrieval\n",
    "def retrieve_documents(query, inverted_index):\n",
    "    query_tokens = preprocess(query)\n",
    "    result = set()\n",
    "\n",
    "    # Retrieve documents containing each query token\n",
    "    for token in query_tokens:\n",
    "        if token in inverted_index:\n",
    "            if not result:\n",
    "                result = set(inverted_index[token])\n",
    "            else:\n",
    "                result = result.intersection(inverted_index[token])\n",
    "\n",
    "    return result\n",
    "\n",
    "# Build the inverted index\n",
    "inverted_index = build_inverted_index(documents)\n",
    "\n",
    "# Example queries\n",
    "query1 = input(\"Enter query: \")\n",
    "\n",
    "\n",
    "# Retrieve documents for the queries\n",
    "result1 = retrieve_documents(query1, inverted_index)\n",
    "\n",
    "\n",
    "# Display the results\n",
    "print(\"Query:\", query1)\n",
    "print(\"Matching Documents:\", result1)"
   ]
  },
  {
   "cell_type": "code",
   "execution_count": 3,
   "id": "23ca3a20",
   "metadata": {
    "id": "23ca3a20"
   },
   "outputs": [
    {
     "name": "stdin",
     "output_type": "stream",
     "text": [
      "Enter query:  document retrieval\n"
     ]
    },
    {
     "name": "stdout",
     "output_type": "stream",
     "text": [
      "\n",
      "Tokenize Query: query_tokens = ['document', 'retrieval']\n",
      "For 'document': The inverted index shows [1, 2, 3, 4]\n",
      "For 'retrieval': The inverted index shows [4]\n",
      "\n",
      "Intersection of matching documents gives: {4}\n",
      "Matching Documents: {4}\n"
     ]
    }
   ],
   "source": [
    "import re\n",
    "import collections\n",
    "\n",
    "# Sample documents\n",
    "documents = {\n",
    "    1: \"This is the first document. It contains some words.\",\n",
    "    2: \"This is the second document. It also contains words.\",\n",
    "    3: \"The third document is different from the first two.\",\n",
    "    4: \"Inverted index is essential for document retrieval.\",\n",
    "}\n",
    "\n",
    "# Function to preprocess and tokenize text\n",
    "def preprocess(text):\n",
    "    text = text.lower()\n",
    "    tokens = re.findall(r'\\w+', text)\n",
    "    return tokens\n",
    "\n",
    "# Create an inverted index\n",
    "def build_inverted_index(documents):\n",
    "    inverted_index = collections.defaultdict(list)\n",
    "    for doc_id, document in documents.items():\n",
    "        tokens = preprocess(document)\n",
    "        for token in tokens:\n",
    "            inverted_index[token].append(doc_id)\n",
    "    return inverted_index\n",
    "\n",
    "# Function to perform document retrieval with detailed output\n",
    "def retrieve_documents(query, inverted_index):\n",
    "    query_tokens = preprocess(query)\n",
    "    result = set()\n",
    "    \n",
    "    print(\"\\nTokenize Query: query_tokens =\", query_tokens)  # Show query tokens\n",
    "\n",
    "    # Retrieve documents containing each query token\n",
    "    for token in query_tokens:\n",
    "        if token in inverted_index:\n",
    "            matching_docs = inverted_index[token]\n",
    "            print(f\"For '{token}': The inverted index shows {matching_docs}\")  # Show matching documents for each token\n",
    "            if not result:\n",
    "                result = set(matching_docs)\n",
    "            else:\n",
    "                result = result.intersection(matching_docs)  # Intersection of results\n",
    "        else:\n",
    "            print(f\"For '{token}': No matching documents found.\")\n",
    "            return set()  # If any token is not found, return an empty result\n",
    "\n",
    "    return result\n",
    "\n",
    "# Build the inverted index\n",
    "inverted_index = build_inverted_index(documents)\n",
    "\n",
    "# Example query\n",
    "query1 = input(\"Enter query: \")\n",
    "\n",
    "# Retrieve documents for the query\n",
    "result1 = retrieve_documents(query1, inverted_index)\n",
    "\n",
    "# Display the final result\n",
    "print(\"\\nIntersection of matching documents gives:\", result1)\n",
    "print(\"Matching Documents:\", result1)\n"
   ]
  },
  {
   "cell_type": "code",
   "execution_count": 2,
   "id": "c84b85fc-984e-49ef-81e8-0a8aed3936ab",
   "metadata": {},
   "outputs": [
    {
     "name": "stdout",
     "output_type": "stream",
     "text": [
      "Inverted Index Form:\n",
      "this: [1, 2]\n",
      "is: [1, 2, 3, 4]\n",
      "the: [1, 2, 3, 3]\n",
      "first: [1, 3]\n",
      "document: [1, 2, 3, 4]\n",
      "it: [1, 2]\n",
      "contains: [1, 2]\n",
      "some: [1]\n",
      "words: [1, 2]\n",
      "second: [2]\n",
      "also: [2]\n",
      "third: [3]\n",
      "different: [3]\n",
      "from: [3]\n",
      "two: [3]\n",
      "inverted: [4]\n",
      "index: [4]\n",
      "essential: [4]\n",
      "for: [4]\n",
      "retrieval: [4]\n"
     ]
    },
    {
     "name": "stdin",
     "output_type": "stream",
     "text": [
      "\n",
      "Enter query:  third\n"
     ]
    },
    {
     "name": "stdout",
     "output_type": "stream",
     "text": [
      "\n",
      "Tokenize Query: query_tokens = ['third']\n",
      "For 'third': The inverted index shows [3]\n",
      "\n",
      "Intersection of matching documents gives: {3}\n",
      "Matching Documents: {3}\n"
     ]
    }
   ],
   "source": [
    "import re\n",
    "import collections\n",
    "\n",
    "# Sample documents\n",
    "documents = {\n",
    "    1: \"This is the first document. It contains some words.\",\n",
    "    2: \"This is the second document. It also contains words.\",\n",
    "    3: \"The third document is different from the first two.\",\n",
    "    4: \"Inverted index is essential for document retrieval.\",\n",
    "}\n",
    "\n",
    "# Function to preprocess and tokenize text\n",
    "def preprocess(text):\n",
    "    text = text.lower()\n",
    "    tokens = re.findall(r'\\w+', text)\n",
    "    return tokens\n",
    "\n",
    "# Create an inverted index\n",
    "def build_inverted_index(documents):\n",
    "    inverted_index = collections.defaultdict(list)\n",
    "    for doc_id, document in documents.items():\n",
    "        tokens = preprocess(document)\n",
    "        for token in tokens:\n",
    "            inverted_index[token].append(doc_id)\n",
    "    return inverted_index\n",
    "\n",
    "# Function to perform document retrieval with detailed output\n",
    "def retrieve_documents(query, inverted_index):\n",
    "    query_tokens = preprocess(query)\n",
    "    result = set()\n",
    "    \n",
    "    print(\"\\nTokenize Query: query_tokens =\", query_tokens)  # Show query tokens\n",
    "\n",
    "    # Retrieve documents containing each query token\n",
    "    for token in query_tokens:\n",
    "        if token in inverted_index:\n",
    "            matching_docs = inverted_index[token]\n",
    "            print(f\"For '{token}': The inverted index shows {matching_docs}\")  # Show matching documents for each token\n",
    "            if not result:\n",
    "                result = set(matching_docs)\n",
    "            else:\n",
    "                result = result.intersection(matching_docs)  # Intersection of results\n",
    "        else:\n",
    "            print(f\"For '{token}': No matching documents found.\")\n",
    "            return set()  # If any token is not found, return an empty result\n",
    "\n",
    "    return result\n",
    "\n",
    "# Build the inverted index\n",
    "inverted_index = build_inverted_index(documents)\n",
    "\n",
    "# Print the inverted index\n",
    "print(\"Inverted Index Form:\")\n",
    "for token, doc_ids in inverted_index.items():\n",
    "    print(f\"{token}: {doc_ids}\")\n",
    "\n",
    "# Example query\n",
    "query1 = input(\"\\nEnter query: \")\n",
    "\n",
    "# Retrieve documents for the query\n",
    "result1 = retrieve_documents(query1, inverted_index)\n",
    "\n",
    "# Display the final result\n",
    "print(\"\\nIntersection of matching documents gives:\", result1)\n",
    "print(\"Matching Documents:\", result1)\n"
   ]
  },
  {
   "cell_type": "code",
   "execution_count": 5,
   "id": "75f3589b-129a-48b5-846b-30c8ce198002",
   "metadata": {},
   "outputs": [
    {
     "name": "stdout",
     "output_type": "stream",
     "text": [
      "Documents containing brown: [0, 2]\n",
      "Documents containing dog: [0, 1]\n"
     ]
    }
   ],
   "source": [
    "from collections import defaultdict\n",
    "# Step 1: Build the inverted index\n",
    "def build_inverted_index(documents):\n",
    "    inverted_index = defaultdict(list)\n",
    "    \n",
    "    for doc_id, doc in enumerate(documents):\n",
    "        for term in set(doc.lower().split()):  # Tokenize and avoid duplicates\n",
    "            inverted_index[term].append(doc_id)\n",
    "    \n",
    "    return inverted_index\n",
    "# Step 2: Search for documents containing terms\n",
    "def search(query, inverted_index):\n",
    "    return [inverted_index.get(term, []) for term in query.lower().split()]\n",
    "# Sample documents\n",
    "documents = [\n",
    "    \"The quick brown fox jumps over the lazy dog\",\n",
    "    \"Never jump over the lazy dog quickly\",\n",
    "    \"A brown fox is quick and jumps high\",\n",
    "]\n",
    "# Build and query the inverted index\n",
    "inverted_index = build_inverted_index(documents)\n",
    "query = \"brown dog\"\n",
    "result = search(query, inverted_index)\n",
    "# Display results\n",
    "for idx, term in enumerate(query.split()):\n",
    "    print(f\"Documents containing {term}:\", result[idx])"
   ]
  },
  {
   "cell_type": "code",
   "execution_count": null,
   "id": "c4e47e51-51ae-4446-a759-dee54f33941f",
   "metadata": {},
   "outputs": [],
   "source": []
  }
 ],
 "metadata": {
  "colab": {
   "provenance": []
  },
  "kernelspec": {
   "display_name": "Python 3 (ipykernel)",
   "language": "python",
   "name": "python3"
  },
  "language_info": {
   "codemirror_mode": {
    "name": "ipython",
    "version": 3
   },
   "file_extension": ".py",
   "mimetype": "text/x-python",
   "name": "python",
   "nbconvert_exporter": "python",
   "pygments_lexer": "ipython3",
   "version": "3.11.3"
  }
 },
 "nbformat": 4,
 "nbformat_minor": 5
}
