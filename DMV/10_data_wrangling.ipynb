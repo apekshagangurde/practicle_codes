{
 "cells": [
  {
   "cell_type": "markdown",
   "id": "9Hpi0acsUKJJ",
   "metadata": {
    "id": "9Hpi0acsUKJJ"
   },
   "source": [
    "The dataset contains information about housing prices in a specific real estate\n",
    "market. It includes various attributes such as property characteristics, location, sale prices,\n",
    "and other relevant features. The goal is to perform data wrangling to gain insights into the\n",
    "factors influencing housing prices and prepare the dataset for further analysis or modeling.\n",
    "Tasks to Perform:\n",
    "1. Import the \"RealEstate_Prices.csv\" dataset. Clean column names by removing spaces,\n",
    "special characters, or renaming them for clarity.\n",
    "2. Handle missing values in the dataset, deciding on an appropriate strategy (e.g.,\n",
    "imputation or removal).\n",
    "3. Perform data merging if additional datasets with relevant information are available\n",
    "(e.g., neighborhood demographics or nearby amenities).\n",
    "4. Filter and subset the data based on specific criteria, such as a particular time period,\n",
    "property type, or location.\n",
    "5. Handle categorical variables by encoding them appropriately (e.g., one-hot encoding or\n",
    "label encoding) for further analysis.\n",
    "6. Aggregate the data to calculate summary statistics or derived metrics such as average\n",
    "sale prices by neighborhood or property type.\n",
    "7. Identify and handle outliers or extreme values in the data that may affect the analysis\n",
    "or modeling process."
   ]
  },
  {
   "cell_type": "code",
   "execution_count": 1,
   "id": "9b1f17ea",
   "metadata": {
    "id": "9b1f17ea"
   },
   "outputs": [
    {
     "name": "stdout",
     "output_type": "stream",
     "text": [
      "      No  transactiondate  houseage    distance  stores  latitude  longitude  \\\n",
      "0      1         2012.917      32.0    84.87882      10  24.98298  121.54024   \n",
      "1      2         2012.917      19.5   306.59470       9  24.98034  121.53951   \n",
      "2      3         2013.583      13.3   561.98450       5  24.98746  121.54391   \n",
      "3      4         2013.500      13.3   561.98450       5  24.98746  121.54391   \n",
      "4      5         2012.833       5.0   390.56840       5  24.97937  121.54245   \n",
      "..   ...              ...       ...         ...     ...       ...        ...   \n",
      "409  410         2013.000      13.7  4082.01500       0  24.94155  121.50381   \n",
      "410  411         2012.667       5.6    90.45606       9  24.97433  121.54310   \n",
      "411  412         2013.250      18.8   390.96960       7  24.97923  121.53986   \n",
      "412  413         2013.000       8.1   104.81010       5  24.96674  121.54067   \n",
      "413  414         2013.500       6.5    90.45606       9  24.97433  121.54310   \n",
      "\n",
      "     unit_area  \n",
      "0         37.9  \n",
      "1         42.2  \n",
      "2         47.3  \n",
      "3         54.8  \n",
      "4         43.1  \n",
      "..         ...  \n",
      "409       15.4  \n",
      "410       50.0  \n",
      "411       40.6  \n",
      "412       52.5  \n",
      "413       63.9  \n",
      "\n",
      "[414 rows x 8 columns]\n"
     ]
    }
   ],
   "source": [
    "import pandas as pd\n",
    "\n",
    "data = pd.read_csv(\"realestate.csv\")\n",
    "data.columns = data.columns.str.strip()  # Remove leading/trailing spaces\n",
    "print(data)"
   ]
  },
  {
   "cell_type": "code",
   "execution_count": 2,
   "id": "JhugCOxVrqh1",
   "metadata": {
    "id": "JhugCOxVrqh1"
   },
   "outputs": [
    {
     "name": "stdout",
     "output_type": "stream",
     "text": [
      "    No  transactiondate  houseage   distance  latitude  longitude  unit_area  \\\n",
      "7    8         2013.417      20.3  287.60250  24.98042  121.54228       46.7   \n",
      "10  11         2013.083      34.8  405.21340  24.97349  121.53372       41.4   \n",
      "11  12         2013.333       6.3   90.45606  24.97433  121.54310       58.1   \n",
      "18  19         2013.417      16.9  368.13630  24.96750  121.54451       42.3   \n",
      "21  22         2013.417      10.5  279.17260  24.97528  121.54541       51.6   \n",
      "\n",
      "    stores_0  stores_1  stores_3  stores_4  stores_5  stores_6  stores_7  \\\n",
      "7      False     False     False     False     False      True     False   \n",
      "10     False      True     False     False     False     False     False   \n",
      "11     False     False     False     False     False     False     False   \n",
      "18     False     False     False     False     False     False     False   \n",
      "21     False     False     False     False     False     False      True   \n",
      "\n",
      "    stores_8  stores_9  stores_10  \n",
      "7      False     False      False  \n",
      "10     False     False      False  \n",
      "11     False      True      False  \n",
      "18      True     False      False  \n",
      "21     False     False      False  \n"
     ]
    }
   ],
   "source": [
    "#data[\"distance\"].fillna(data[\"distance\"].mean(), inplace=True)\n",
    "data.dropna(inplace=True)   #removing rows having null values\n",
    "\n",
    "filtered_data = data[(data['transactiondate'] >= 2013) & (data['distance'] <= 500)]    #filter based on year and distance\n",
    "\n",
    "filtered_data = pd.get_dummies(filtered_data, columns=['stores']) #one-got encoding of cateforical variables\n",
    "\n",
    "average_price_by_age = filtered_data.groupby('houseage')['unit_area'].mean()  #avg sale price by ppty age -- agg stats\n",
    "\n",
    "# Example: Remove rows with extreme values in 'unit_area'\n",
    "lower_bound = filtered_data['unit_area'].quantile(0.05)\n",
    "upper_bound = filtered_data['unit_area'].quantile(0.95)\n",
    "filtered_data = filtered_data[(filtered_data['unit_area'] >= lower_bound) & (filtered_data['unit_area'] <= upper_bound)]\n",
    "\n",
    "# Display the processed DataFrame\n",
    "print(filtered_data.head())"
   ]
  },
  {
   "cell_type": "code",
   "execution_count": null,
   "id": "2edd4d3e-5a0e-4713-96fd-b9fe60a017eb",
   "metadata": {},
   "outputs": [],
   "source": []
  }
 ],
 "metadata": {
  "colab": {
   "provenance": []
  },
  "kernelspec": {
   "display_name": "Python 3 (ipykernel)",
   "language": "python",
   "name": "python3"
  },
  "language_info": {
   "codemirror_mode": {
    "name": "ipython",
    "version": 3
   },
   "file_extension": ".py",
   "mimetype": "text/x-python",
   "name": "python",
   "nbconvert_exporter": "python",
   "pygments_lexer": "ipython3",
   "version": "3.11.3"
  }
 },
 "nbformat": 4,
 "nbformat_minor": 5
}
